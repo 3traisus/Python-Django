{
 "cells": [
  {
   "cell_type": "code",
   "execution_count": 1,
   "metadata": {},
   "outputs": [
    {
     "name": "stdout",
     "output_type": "stream",
     "text": [
      "  Nombre   Apellido  Edad\n",
      "0  Jesus      Nuñez    22\n",
      "1  Jessi      Judio    16\n",
      "2    Ara  Cuyolover    19\n"
     ]
    }
   ],
   "source": [
    "import pandas as pd \n",
    "archivo = pd.read_csv(\"textos\\\\datos.csv\")\n",
    "print(archivo)"
   ]
  }
 ],
 "metadata": {
  "kernelspec": {
   "display_name": "Python 3",
   "language": "python",
   "name": "python3"
  },
  "language_info": {
   "codemirror_mode": {
    "name": "ipython",
    "version": 3
   },
   "file_extension": ".py",
   "mimetype": "text/x-python",
   "name": "python",
   "nbconvert_exporter": "python",
   "pygments_lexer": "ipython3",
   "version": "3.11.4"
  },
  "orig_nbformat": 4
 },
 "nbformat": 4,
 "nbformat_minor": 2
}
